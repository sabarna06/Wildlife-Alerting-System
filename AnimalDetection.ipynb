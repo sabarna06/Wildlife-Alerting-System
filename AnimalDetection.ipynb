{
  "cells": [
    {
      "cell_type": "markdown",
      "metadata": {
        "id": "view-in-github",
        "colab_type": "text"
      },
      "source": [
        "<a href=\"https://colab.research.google.com/github/sabarna06/Wildlife-Alerting-System/blob/main/AnimalDetection.ipynb\" target=\"_parent\"><img src=\"https://colab.research.google.com/assets/colab-badge.svg\" alt=\"Open In Colab\"/></a>"
      ]
    },
    {
      "cell_type": "code",
      "source": [
        "import gradio as gr\n",
        "import cv2\n",
        "import numpy as np\n",
        "import tensorflow as tf\n",
        "from tensorflow.keras.applications import MobileNetV2\n",
        "from tensorflow.keras.preprocessing.image import img_to_array\n",
        "\n",
        "# List of predefined wild animal names\n",
        "wild_animals = [\n",
        "    \"African Elephant\", \"Asian Elephant\", \"Bengal Tiger\", \"Siberian Tiger\", \"Indian Lion\",\n",
        "    \"African Lion\", \"Cheetah\", \"Leopard\", \"Snow Leopard\", \"Jaguar\", \"Cougar\", \"Clouded Leopard\",\n",
        "    \"Sunda Clouded Leopard\", \"African Leopard\", \"Indian Leopard\", \"Asiatic Golden Cat\", \"Caracal\",\n",
        "    \"Serval\", \"Ocelot\", \"Rusty-Spotted Cat\", \"Black-Footed Cat\", \"Bobcat\", \"Lynx\", \"Iberian Lynx\",\n",
        "    \"Canadian Lynx\", \"Red Fox\", \"Arctic Fox\", \"Fennec Fox\", \"Swift Fox\", \"Raccoon Dog\",\n",
        "    \"Bat-Eared Fox\", \"Kit Fox\", \"Pale Fox\", \"Bengal Fox\", \"Corsac Fox\", \"Blanford's Fox\",\n",
        "    \"Tibetan Sand Fox\", \"Crab-Eating Fox\", \"Darwin's Fox\", \"Maned Wolf\", \"Dhole\", \"African Hunting Dog\",\n",
        "    \"Bush Dog\", \"Short-Eared Dog\", \"Gray Wolf\", \"Arctic Wolf\", \"Ethiopian Wolf\", \"Red Wolf\",\n",
        "    \"Maned Wolf\", \"African Wild Dog\", \"Raccoon\", \"Coati\", \"Kinkajou\", \"Olingo\", \"Tayra\", \"Wolverine\",\n",
        "    \"Honey Badger\", \"Eurasian Badger\", \"American Badger\", \"Hog Badger\", \"European Badger\",\n",
        "    \"African Badger\", \"Tasmanian Devil\", \"Quoll\", \"Numbat\", \"Koala\", \"Wombat\", \"Greater Bilby\",\n",
        "    \"Sugar Glider\", \"Tree Kangaroo\", \"Kangaroo\", \"Wallaby\", \"Pademelon\", \"Quokka\",\n",
        "    \"Eastern Gray Kangaroo\", \"Western Gray Kangaroo\", \"Red Kangaroo\", \"Antilopine Kangaroo\",\n",
        "    \"Bennett's Wallaby\", \"Swamp Wallaby\", \"Agile Wallaby\", \"Parma Wallaby\", \"Whiptail Wallaby\",\n",
        "    \"Black Wallaroo\", \"Red-Necked Wallaby\", \"Euro\", \"Potoroo\", \"Jerboa\", \"Rock Wallaby\",\n",
        "    \"Tammar Wallaby\", \"Dusky Pademelon\", \"Tasmanian Pademelon\", \"Eastern Pygmy Possum\",\n",
        "    \"Western Pygmy Possum\", \"Long-Tailed Pygmy Possum\", \"Mountain Pygmy Possum\",\n",
        "    \"Feathertail Glider\", \"Sugar Glider\", \"Yellow-Bellied Glider\", \"Squirrel Glider\",\n",
        "    \"Mahogany Glider\", \"Leadbeater's Possum\", \"Greater Glider\", \"Flying Lemur\", \"Slow Loris\",\n",
        "    \"Bengal Loris\", \"Philippine Slow Loris\", \"Pygmy Slow Loris\", \"Slender Loris\",\n",
        "    \"Javan Slow Loris\", \"African Elephant Shrew\", \"Elephant Shrew\", \"Short-Eared Elephant Shrew\",\n",
        "    \"Four-Toed Elephant Shrew\", \"Somali Elephant Shrew\", \"Rufous Elephant Shrew\",\n",
        "    \"Western Tarsier\", \"Philippine Tarsier\", \"Horsfield's Tarsier\", \"Spectral Tarsier\",\n",
        "    \"Pygmy Tarsier\", \"Tana River Mangabey\", \"Bonnet Macaque\", \"Lion-Tailed Macaque\",\n",
        "    \"Assam Macaque\", \"Tibetan Macaque\", \"Japanese Macaque\", \"Barbary Macaque\",\n",
        "    \"Stump-Tailed Macaque\", \"Rhesus Macaque\", \"Celebes Crested Macaque\", \"Formosan Rock Macaque\",\n",
        "    \"Pig-Tailed Macaque\", \"Javan Lutung\", \"Silvery Lutung\", \"Grey-Shanked Douc\", \"Red-Shanked Douc\",\n",
        "    \"Golden Douc\", \"Tonkin Snub-Nosed Monkey\", \"Black Snub-Nosed Monkey\", \"Grey Snub-Nosed Monkey\",\n",
        "    \"Myanmar Snub-Nosed Monkey\", \"Phayre's Leaf Monkey\", \"Francois' Langur\", \"Delacour's Langur\",\n",
        "    \"Tiger\", \"Brown-Bear\", \"Lion\", \"Hippopotamus\"\n",
        "    # ... (continue the list with more wild animal names)\n",
        "]\n",
        "\n",
        "# Load your animal detection model here\n",
        "# Replace the following line with your model loading code\n",
        "model = MobileNetV2(weights='imagenet')\n",
        "\n",
        "def preprocess_image(img):\n",
        "    img = cv2.resize(img, (224, 224))\n",
        "    img = img_to_array(img)\n",
        "    img = np.expand_dims(img, axis=0)\n",
        "    img = tf.keras.applications.mobilenet_v2.preprocess_input(img)\n",
        "    return img\n",
        "\n",
        "def classify_image(img):\n",
        "    try:\n",
        "        preprocessed_img = preprocess_image(img)\n",
        "        predictions = model.predict(preprocessed_img)\n",
        "\n",
        "        # Example: Assuming MobileNetV2 returns ImageNet class labels\n",
        "        decoded_predictions = tf.keras.applications.mobilenet_v2.decode_predictions(predictions, top=1)[0]\n",
        "        detected_animal_name = decoded_predictions[0][1].lower()\n",
        "\n",
        "        # Check if the detected animal is in the predefined list of wild animal names\n",
        "        if detected_animal_name in [animal.lower() for animal in wild_animals]:\n",
        "            return f\"{detected_animal_name.capitalize()} detected!\"  # Display the detected wild animal name\n",
        "        else:\n",
        "            return \"No wild animal detected.\"  # Display when the detected object is not a wild animal\n",
        "\n",
        "    except Exception as e:\n",
        "        return str(e)\n",
        "\n",
        "# Create a Gradio interface\n",
        "iface = gr.Interface(\n",
        "    fn=classify_image,\n",
        "    inputs=gr.Image(),\n",
        "    outputs=gr.Textbox(),\n",
        "    live=True\n",
        ")\n",
        "\n",
        "# Launch the interface with debug information\n",
        "iface.launch(debug=True)\n"
      ],
      "metadata": {
        "colab": {
          "base_uri": "https://localhost:8080/",
          "height": 732
        },
        "id": "9u7YXeod3jDj",
        "outputId": "7e3ec539-32bc-4fea-d7b7-04338428767d"
      },
      "execution_count": null,
      "outputs": [
        {
          "output_type": "stream",
          "name": "stdout",
          "text": [
            "Setting queue=True in a Colab notebook requires sharing enabled. Setting `share=True` (you can turn this off by setting `share=False` in `launch()` explicitly).\n",
            "\n",
            "Colab notebook detected. This cell will run indefinitely so that you can see errors and logs. To turn off, set debug=False in launch().\n",
            "Running on public URL: https://2273fa37b630570af9.gradio.live\n",
            "\n",
            "This share link expires in 72 hours. For free permanent hosting and GPU upgrades, run `gradio deploy` from Terminal to deploy to Spaces (https://huggingface.co/spaces)\n"
          ]
        },
        {
          "output_type": "display_data",
          "data": {
            "text/plain": [
              "<IPython.core.display.HTML object>"
            ],
            "text/html": [
              "<div><iframe src=\"https://2273fa37b630570af9.gradio.live\" width=\"100%\" height=\"500\" allow=\"autoplay; camera; microphone; clipboard-read; clipboard-write;\" frameborder=\"0\" allowfullscreen></iframe></div>"
            ]
          },
          "metadata": {}
        },
        {
          "output_type": "stream",
          "name": "stdout",
          "text": [
            "1/1 [==============================] - 1s 783ms/step\n",
            "1/1 [==============================] - 0s 116ms/step\n",
            "1/1 [==============================] - 0s 54ms/step\n",
            "1/1 [==============================] - 0s 46ms/step\n",
            "1/1 [==============================] - 0s 48ms/step\n"
          ]
        }
      ]
    }
  ],
  "metadata": {
    "colab": {
      "provenance": [],
      "authorship_tag": "ABX9TyNM2x1nCVE7HUoTFxQu2G/w",
      "include_colab_link": true
    },
    "kernelspec": {
      "display_name": "Python 3",
      "name": "python3"
    },
    "language_info": {
      "name": "python"
    }
  },
  "nbformat": 4,
  "nbformat_minor": 0
}